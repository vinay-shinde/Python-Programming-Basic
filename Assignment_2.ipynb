{
  "nbformat": 4,
  "nbformat_minor": 0,
  "metadata": {
    "colab": {
      "provenance": [],
      "authorship_tag": "ABX9TyMbL149P2bA0wU+I70Kd4AF",
      "include_colab_link": true
    },
    "kernelspec": {
      "name": "python3",
      "display_name": "Python 3"
    },
    "language_info": {
      "name": "python"
    }
  },
  "cells": [
    {
      "cell_type": "markdown",
      "metadata": {
        "id": "view-in-github",
        "colab_type": "text"
      },
      "source": [
        "<a href=\"https://colab.research.google.com/github/vinay-shinde/Python-Programming-Basic/blob/main/Assignment_2.ipynb\" target=\"_parent\"><img src=\"https://colab.research.google.com/assets/colab-badge.svg\" alt=\"Open In Colab\"/></a>"
      ]
    },
    {
      "cell_type": "markdown",
      "source": [
        "#1.\tWrite a Python program to convert kilometers to miles?"
      ],
      "metadata": {
        "id": "TbOLsgu70ZbE"
      }
    },
    {
      "cell_type": "code",
      "source": [
        "a=int(input(\"Enter the distance in kilometer: \"))\n",
        "\n",
        "print(f\"The converted value of {a} kilometer in miles is : {a*0.621371} miles\")"
      ],
      "metadata": {
        "colab": {
          "base_uri": "https://localhost:8080/"
        },
        "id": "8gvkQApy0cq1",
        "outputId": "fa64f84b-63af-46e3-bd9a-5f7967360e38"
      },
      "execution_count": 3,
      "outputs": [
        {
          "output_type": "stream",
          "name": "stdout",
          "text": [
            "Enter the distance in kilometer: 10\n",
            "The converted value of 10 kilometer in miles is : 6.21371 miles\n"
          ]
        }
      ]
    },
    {
      "cell_type": "markdown",
      "source": [
        "# 2.\tWrite a Python program to convert Celsius to Fahrenheit?"
      ],
      "metadata": {
        "id": "Im8tkfVp1RmA"
      }
    },
    {
      "cell_type": "code",
      "execution_count": 6,
      "metadata": {
        "colab": {
          "base_uri": "https://localhost:8080/"
        },
        "id": "dgxMf4tt0Sya",
        "outputId": "3a470914-b265-465c-c1cd-e2041fc54b86"
      },
      "outputs": [
        {
          "output_type": "stream",
          "name": "stdout",
          "text": [
            "Enter the temperature in celsius: 100\n",
            "The converted value of 100 degree celsius in fahrenheit is : 212.0 fahrenheit\n"
          ]
        }
      ],
      "source": [
        "a=int(input(\"Enter the temperature in celsius: \"))\n",
        "\n",
        "print(f\"The converted value of {a} degree celsius in fahrenheit is : {(a*1.8)+32} fahrenheit\")"
      ]
    },
    {
      "cell_type": "markdown",
      "source": [
        "#3.\tWrite a Python program to display calendar?"
      ],
      "metadata": {
        "id": "YM1iJobi17L0"
      }
    },
    {
      "cell_type": "code",
      "source": [
        "import calendar\n",
        "\n",
        "# To take month and year input from the user\n",
        "year = int(input(\"Enter year: \"))\n",
        "month = int(input(\"Enter month(like jan=1, feb=2 etc): \"))\n",
        "\n",
        "print(\"   \")\n",
        "# display the calendar\n",
        "print(calendar.month(year, month))"
      ],
      "metadata": {
        "colab": {
          "base_uri": "https://localhost:8080/"
        },
        "id": "TZ2ZWprn1_Mg",
        "outputId": "5300e4a6-014f-46c4-c7a3-9e7cd9638d88"
      },
      "execution_count": 14,
      "outputs": [
        {
          "output_type": "stream",
          "name": "stdout",
          "text": [
            "Enter year: 2022\n",
            "Enter month(like jan=1, feb=2 etc): 12\n",
            "   \n",
            "   December 2022\n",
            "Mo Tu We Th Fr Sa Su\n",
            "          1  2  3  4\n",
            " 5  6  7  8  9 10 11\n",
            "12 13 14 15 16 17 18\n",
            "19 20 21 22 23 24 25\n",
            "26 27 28 29 30 31\n",
            "\n"
          ]
        }
      ]
    },
    {
      "cell_type": "markdown",
      "source": [
        "# 4.\tWrite a Python program to solve quadratic equation?"
      ],
      "metadata": {
        "id": "NrxowKzu2E5K"
      }
    },
    {
      "cell_type": "code",
      "source": [
        "# Solve the quadratic equation ax**2 + bx + c = 0\n",
        "\n",
        "# import complex math module\n",
        "import cmath\n",
        "a=int(input(\"Enter the first number: \"))\n",
        "b=int(input(\"Enter the second number: \"))\n",
        "c=int(input(\"Enter the third number: \"))\n",
        "\n",
        "# calculate the discriminant\n",
        "d = (b**2) - (4*a*c)\n",
        "\n",
        "# find two solutions\n",
        "sol1 = (-b-cmath.sqrt(d))/(2*a)\n",
        "sol2 = (-b+cmath.sqrt(d))/(2*a)\n",
        "\n",
        "print(f\"The solution are {0} and {1}':{sol1,sol2}\")"
      ],
      "metadata": {
        "colab": {
          "base_uri": "https://localhost:8080/"
        },
        "id": "i95XYZTe2Hig",
        "outputId": "dd917a06-1c7d-425b-b162-829f9a116a7a"
      },
      "execution_count": 13,
      "outputs": [
        {
          "output_type": "stream",
          "name": "stdout",
          "text": [
            "Enter the first number: 1\n",
            "Enter the second number: 5\n",
            "Enter the third number: 6\n",
            "The solution are 0 and 1':((-3+0j), (-2+0j))\n"
          ]
        }
      ]
    },
    {
      "cell_type": "markdown",
      "source": [
        "#5.\tWrite a Python program to swap two variables without temp variable?"
      ],
      "metadata": {
        "id": "0iJ_24kZ2H0n"
      }
    },
    {
      "cell_type": "code",
      "source": [
        "a=int(input(\"Enter the first number: \"))\n",
        "b=int(input(\"Enter the second number: \"))\n",
        "print(f\"The numbers before swapping are: {a} and {b}\")\n",
        "a,b=b,a\n",
        "\n",
        "print(f\"The numbers after swapping are: {a} and {b}\")\n"
      ],
      "metadata": {
        "colab": {
          "base_uri": "https://localhost:8080/"
        },
        "id": "jYvkIFTO2K4a",
        "outputId": "b4386730-7ce7-4ada-f91b-94943bea69ad"
      },
      "execution_count": 11,
      "outputs": [
        {
          "output_type": "stream",
          "name": "stdout",
          "text": [
            "Enter the first number: 1\n",
            "Enter the second number: 2\n",
            "The numbers before swapping are: 1 and 2\n",
            "The numbers after swapping are: 2 and 1\n"
          ]
        }
      ]
    }
  ]
}