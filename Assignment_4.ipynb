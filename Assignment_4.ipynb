{
  "nbformat": 4,
  "nbformat_minor": 0,
  "metadata": {
    "colab": {
      "provenance": [],
      "authorship_tag": "ABX9TyOB35kEOM0Alz94vQcPm7Ca",
      "include_colab_link": true
    },
    "kernelspec": {
      "name": "python3",
      "display_name": "Python 3"
    },
    "language_info": {
      "name": "python"
    }
  },
  "cells": [
    {
      "cell_type": "markdown",
      "metadata": {
        "id": "view-in-github",
        "colab_type": "text"
      },
      "source": [
        "<a href=\"https://colab.research.google.com/github/vinay-shinde/Python-Programming-Basic/blob/main/Assignment_4.ipynb\" target=\"_parent\"><img src=\"https://colab.research.google.com/assets/colab-badge.svg\" alt=\"Open In Colab\"/></a>"
      ]
    },
    {
      "cell_type": "markdown",
      "source": [
        "#1. Write a Python Program to Find the Factorial of a Number?\n",
        "\n",
        "\n",
        "\n"
      ],
      "metadata": {
        "id": "_FTzbZRcu6f6"
      }
    },
    {
      "cell_type": "code",
      "execution_count": 4,
      "metadata": {
        "id": "WFzd4IWsHcuJ",
        "colab": {
          "base_uri": "https://localhost:8080/"
        },
        "outputId": "6d56c577-1208-4ee3-b1da-66ef46a93259"
      },
      "outputs": [
        {
          "output_type": "stream",
          "name": "stdout",
          "text": [
            "Enter the number: 4\n",
            "The factorial of 4, is 24 factorial\n"
          ]
        }
      ],
      "source": [
        "num=int(input(\"Enter the number: \"))\n",
        "fact=1\n",
        "if num < 0:\n",
        "   print(\"Sorry, factorial does not exist for negative numbers\")\n",
        "elif num == 0:\n",
        "   print(\"The factorial of 0 is 1\")\n",
        "else:\n",
        "   for i in range(1,num + 1):\n",
        "       fact = fact*i\n",
        "   print(f\"The factorial of {num}, is {fact} factorial\")"
      ]
    },
    {
      "cell_type": "markdown",
      "source": [
        "#2. Write a Python Program to Display the multiplication Table?\n"
      ],
      "metadata": {
        "id": "8WHlcA-AwAud"
      }
    },
    {
      "cell_type": "code",
      "source": [
        "a=int(input(\"Enter a number:\"))\n",
        "\n",
        "for i in range(1,11):\n",
        "  print(f\"{a}X{i}={i*a}\")"
      ],
      "metadata": {
        "colab": {
          "base_uri": "https://localhost:8080/"
        },
        "id": "yPq2oTiSvaWN",
        "outputId": "e05b3701-e711-4c67-c58f-31c6c09e9974"
      },
      "execution_count": 12,
      "outputs": [
        {
          "output_type": "stream",
          "name": "stdout",
          "text": [
            "Enter a number:2\n",
            "2X1=2\n",
            "2X2=4\n",
            "2X3=6\n",
            "2X4=8\n",
            "2X5=10\n",
            "2X6=12\n",
            "2X7=14\n",
            "2X8=16\n",
            "2X9=18\n",
            "2X10=20\n"
          ]
        }
      ]
    },
    {
      "cell_type": "markdown",
      "source": [
        "#3. Write a Python Program to Print the Fibonacci sequence?\n"
      ],
      "metadata": {
        "id": "JGMx5dcnxeyq"
      }
    },
    {
      "cell_type": "code",
      "source": [
        "nterms = int(input(\"How many terms? \"))\n",
        "\n",
        "# first two terms\n",
        "n1, n2 = 0, 1\n",
        "count = 0\n",
        "\n",
        "# check if the number of terms is valid\n",
        "if nterms <= 0:\n",
        "   print(\"Please enter a positive integer\")\n",
        "# if there is only one term, return n1\n",
        "elif nterms == 1:\n",
        "   print(\"Fibonacci sequence upto\",nterms,\":\")\n",
        "   print(n1)\n",
        "# generate fibonacci sequence\n",
        "else:\n",
        "   print(\"Fibonacci sequence:\")\n",
        "   while count < nterms:\n",
        "       print(n1)\n",
        "       nth = n1 + n2\n",
        "       # update values\n",
        "       n1 = n2\n",
        "       n2 = nth\n",
        "       count += 1"
      ],
      "metadata": {
        "colab": {
          "base_uri": "https://localhost:8080/"
        },
        "id": "bqMISnvPwRzq",
        "outputId": "77c1edcb-a6f4-42b8-d669-0b544577219c"
      },
      "execution_count": 13,
      "outputs": [
        {
          "output_type": "stream",
          "name": "stdout",
          "text": [
            "How many terms? 7\n",
            "Fibonacci sequence:\n",
            "0\n",
            "1\n",
            "1\n",
            "2\n",
            "3\n",
            "5\n",
            "8\n"
          ]
        }
      ]
    },
    {
      "cell_type": "markdown",
      "source": [
        "#4. Write a Python Program to Check Armstrong Number?\n"
      ],
      "metadata": {
        "id": "2ZmZBzHSyFZo"
      }
    },
    {
      "cell_type": "code",
      "source": [
        "num = int(input(\"Enter a number: \"))\n",
        "\n",
        "# initialize sum\n",
        "sum = 0\n",
        "\n",
        "# find the sum of the cube of each digit\n",
        "temp = num\n",
        "while temp > 0:\n",
        "   digit = temp % 10\n",
        "   sum += digit ** 3\n",
        "   temp //= 10\n",
        "\n",
        "# display the result\n",
        "if num == sum:\n",
        "   print(num,\"is an Armstrong number\")\n",
        "else:\n",
        "   print(num,\"is not an Armstrong number\")\n"
      ],
      "metadata": {
        "colab": {
          "base_uri": "https://localhost:8080/"
        },
        "id": "3ymbaWAsx771",
        "outputId": "7127af4f-eed6-4678-e197-125c58437e37"
      },
      "execution_count": 14,
      "outputs": [
        {
          "output_type": "stream",
          "name": "stdout",
          "text": [
            "Enter a number: 153\n",
            "153 is an Armstrong number\n"
          ]
        }
      ]
    },
    {
      "cell_type": "markdown",
      "source": [
        "#5. Write a Python Program to Find Armstrong Number in an Interval?"
      ],
      "metadata": {
        "id": "AQmoahmhydyo"
      }
    },
    {
      "cell_type": "code",
      "source": [
        "def checkArmstrongNumber(in_num, storage):\n",
        "    sum = 0\n",
        "    for char in range(len(in_num)):\n",
        "        sum = sum + pow(int(in_num[char]),3)\n",
        "    if sum == int(in_num):\n",
        "        storage.append(int(in_num))\n",
        "\n",
        "start_interval = int(input('Enter the Start of the Interval: '))\n",
        "end_interval = int(input('Enter the End of the Interval: '))\n",
        "list_of_armstrong = []\n",
        "\n",
        "if start_interval > end_interval:\n",
        "    print(\"Start Interval Cannot be Greater than End Interval\")\n",
        "else:\n",
        "    for number in range(start_interval,end_interval+1):\n",
        "        checkArmstrongNumber(str(number),list_of_armstrong)\n",
        "    print(f'The Armstrong numbers between {start_interval} and {end_interval} are {list_of_armstrong}')"
      ],
      "metadata": {
        "colab": {
          "base_uri": "https://localhost:8080/"
        },
        "id": "0CvzdkYFyUQP",
        "outputId": "d2c531cb-c97c-486b-a8ea-3e811a4cc9c9"
      },
      "execution_count": 15,
      "outputs": [
        {
          "output_type": "stream",
          "name": "stdout",
          "text": [
            "Enter the Start of the Interval: 1\n",
            "Enter the End of the Interval: 160\n",
            "The Armstrong numbers between 1 and 160 are [1, 153]\n"
          ]
        }
      ]
    },
    {
      "cell_type": "markdown",
      "source": [
        "#6. Write a Python Program to Find the Sum of Natural Numbers?\n"
      ],
      "metadata": {
        "id": "AhzV6auPymDa"
      }
    },
    {
      "cell_type": "code",
      "source": [
        "num = int(input(\"Enter a number: \"))\n",
        "a=num*(num+1)\n",
        "print(f\"sum of of first {num} natural numbers is:{a/2}\")"
      ],
      "metadata": {
        "colab": {
          "base_uri": "https://localhost:8080/"
        },
        "id": "UUvS27CIycrv",
        "outputId": "2db597cb-d1d6-4d96-b3da-74680bf7615c"
      },
      "execution_count": 22,
      "outputs": [
        {
          "output_type": "stream",
          "name": "stdout",
          "text": [
            "Enter a number: 10\n",
            "sum of of first 10 natural numbers is:55.0\n"
          ]
        }
      ]
    },
    {
      "cell_type": "code",
      "source": [],
      "metadata": {
        "id": "YxYvKjleyzMo"
      },
      "execution_count": null,
      "outputs": []
    }
  ]
}