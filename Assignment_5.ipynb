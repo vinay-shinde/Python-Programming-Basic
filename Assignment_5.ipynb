{
  "nbformat": 4,
  "nbformat_minor": 0,
  "metadata": {
    "colab": {
      "provenance": [],
      "toc_visible": true,
      "authorship_tag": "ABX9TyN4Ed++4hJDKQ9lSyUPO/fE",
      "include_colab_link": true
    },
    "kernelspec": {
      "name": "python3",
      "display_name": "Python 3"
    },
    "language_info": {
      "name": "python"
    }
  },
  "cells": [
    {
      "cell_type": "markdown",
      "metadata": {
        "id": "view-in-github",
        "colab_type": "text"
      },
      "source": [
        "<a href=\"https://colab.research.google.com/github/vinay-shinde/Python-Programming-Basic/blob/main/Programming_Assignment_5.ipynb\" target=\"_parent\"><img src=\"https://colab.research.google.com/assets/colab-badge.svg\" alt=\"Open In Colab\"/></a>"
      ]
    },
    {
      "cell_type": "markdown",
      "source": [
        "#1.Write a Python Program to Find LCM?"
      ],
      "metadata": {
        "id": "h5XoS9e8UDaG"
      }
    },
    {
      "cell_type": "code",
      "execution_count": 1,
      "metadata": {
        "id": "u1Axk1DqT63l",
        "colab": {
          "base_uri": "https://localhost:8080/"
        },
        "outputId": "868a6b7e-71e0-4ffa-ba9f-c0e7790c82d0"
      },
      "outputs": [
        {
          "output_type": "stream",
          "name": "stdout",
          "text": [
            "The LCM of 3,6 is 6\n",
            "The LCM of 5,2 is 10\n",
            "The LCM of 5,100 is 100\n"
          ]
        }
      ],
      "source": [
        "def findTheLcm(x_term,y_term):\n",
        "    if x_term > y_term:\n",
        "        greater = x_term\n",
        "    else:\n",
        "        greater = x_term\n",
        "    while True:\n",
        "        if((greater%x_term == 0) and (greater%y_term == 0)):\n",
        "            lcm = greater\n",
        "            break\n",
        "        else:\n",
        "            greater +=1\n",
        "    print(f'The LCM of {x_term},{y_term} is {lcm}')\n",
        "\n",
        "findTheLcm(3,6)\n",
        "findTheLcm(5,2)\n",
        "findTheLcm(5,100)"
      ]
    },
    {
      "cell_type": "markdown",
      "source": [
        "#2.Write a Python Program to find HCF ?"
      ],
      "metadata": {
        "id": "TebG79GhTxsy"
      }
    },
    {
      "cell_type": "code",
      "source": [
        "def findTheHcf(x_term,y_term):\n",
        "    if x_term>y_term:\n",
        "        smaller = y_term\n",
        "    else:\n",
        "        smaller = x_term\n",
        "    for ele in range(1,smaller+1):\n",
        "        if((x_term%ele == 0) and (y_term%ele == 0)):\n",
        "            hcf = ele\n",
        "    print(f'The HCF of {x_term},{y_term} is {hcf}')\n",
        "\n",
        "findTheHcf(6,12)\n",
        "findTheHcf(2,3)\n",
        "findTheHcf(10,23)"
      ],
      "metadata": {
        "colab": {
          "base_uri": "https://localhost:8080/"
        },
        "id": "LCG7yx0OTur-",
        "outputId": "97291097-b232-4d3e-bf7e-e0b27b6a8839"
      },
      "execution_count": 2,
      "outputs": [
        {
          "output_type": "stream",
          "name": "stdout",
          "text": [
            "The HCF of 6,12 is 6\n",
            "The HCF of 2,3 is 1\n",
            "The HCF of 10,23 is 1\n"
          ]
        }
      ]
    },
    {
      "cell_type": "markdown",
      "source": [
        "#3.Write a Python Program to Convert Decimal to Binary, Octal and Hexadecimal ?"
      ],
      "metadata": {
        "id": "v6hy-HBST59m"
      }
    },
    {
      "cell_type": "code",
      "source": [
        "def DecimalToOther():\n",
        "    num = int(input('Enter a Number: '))\n",
        "    print(f'Binary Number -> {bin(num)}')\n",
        "    print(f'Octal Number -> {oct(num)}')    \n",
        "    print(f'Hexadecimal Number -> {hex(num)}')    \n",
        "\n",
        "DecimalToOther()"
      ],
      "metadata": {
        "colab": {
          "base_uri": "https://localhost:8080/"
        },
        "id": "sRhYZyxHT5Kn",
        "outputId": "063e3eb6-3d65-45a9-8edc-80160e0d8dd8"
      },
      "execution_count": 3,
      "outputs": [
        {
          "output_type": "stream",
          "name": "stdout",
          "text": [
            "Enter a Number: 16\n",
            "Binary Number -> 0b10000\n",
            "Octal Number -> 0o20\n",
            "Hexadecimal Number -> 0x10\n"
          ]
        }
      ]
    },
    {
      "cell_type": "markdown",
      "source": [
        "#4.Write a Python Program to Find the ASCII value of  a Character ?"
      ],
      "metadata": {
        "id": "qaddK3v-UDNF"
      }
    },
    {
      "cell_type": "code",
      "source": [
        "def charToAscii():\n",
        "    char = input('Enter a Character: ')\n",
        "    if len(char) > 1:\n",
        "        print('Please Enter a Single Character')\n",
        "    else:\n",
        "        print(f'Ascii Character of {char} is {ord(char)}')\n",
        "\n",
        "charToAscii()"
      ],
      "metadata": {
        "colab": {
          "base_uri": "https://localhost:8080/"
        },
        "id": "J-h9dzFsT_Z1",
        "outputId": "d3c7327d-7321-4eef-e220-be17c3da34da"
      },
      "execution_count": 4,
      "outputs": [
        {
          "output_type": "stream",
          "name": "stdout",
          "text": [
            "Enter a Character: t\n",
            "Ascii Character of t is 116\n"
          ]
        }
      ]
    },
    {
      "cell_type": "markdown",
      "source": [
        "#5.Write a Python Program to Make a Simple Calculator with 4 Basic Mathematical operations ?"
      ],
      "metadata": {
        "id": "mEDdGtxSUI3r"
      }
    },
    {
      "cell_type": "code",
      "source": [
        "import operator\n",
        "\n",
        "ops = { \"+\": operator.add, \"-\": operator.sub, \"*\":operator.mul, \"/\":operator.truediv } \n",
        "\n",
        "print('Select a Arithmetic Operation: \\\n",
        "        \\n1.Addition(+)\\\n",
        "        \\n2.Division(-)\\\n",
        "        \\n2.Multiplication(*)\\\n",
        "        \\n4.Division(/)\\\n",
        "        \\n3.Stop(0)\\n')\n",
        "   \n",
        "\n",
        "while True:\n",
        "    operator = input('Enter a arithmetic operation -> ')\n",
        "    if operator == '0':\n",
        "        print(\"Program Stopped successfully\")\n",
        "        break\n",
        "    elif operator not in ['+','-','*','/']:\n",
        "        print(\"Please enter a valid operator\")\n",
        "    else:\n",
        "        num_1 = int(input('\\nEnter 1st Number: '))\n",
        "        num_2 = int(input('Enter 2nd Number: '))\n",
        "        print(f'{num_1}{operator}{num_2}={ops[operator](num_1,num_2)}\\n')"
      ],
      "metadata": {
        "colab": {
          "base_uri": "https://localhost:8080/"
        },
        "id": "9kJMA4NZUG_-",
        "outputId": "fb572dc4-3731-4114-f894-0ae46d932ff3"
      },
      "execution_count": 5,
      "outputs": [
        {
          "output_type": "stream",
          "name": "stdout",
          "text": [
            "Select a Arithmetic Operation:         \n",
            "1.Addition(+)        \n",
            "2.Division(-)        \n",
            "2.Multiplication(*)        \n",
            "4.Division(/)        \n",
            "3.Stop(0)\n",
            "\n",
            "Enter a arithmetic operation -> +\n",
            "\n",
            "Enter 1st Number: 66\n",
            "Enter 2nd Number: 88\n",
            "66+88=154\n",
            "\n",
            "Enter a arithmetic operation -> -\n",
            "\n",
            "Enter 1st Number: 88\n",
            "Enter 2nd Number: 99\n",
            "88-99=-11\n",
            "\n",
            "Enter a arithmetic operation -> *\n",
            "\n",
            "Enter 1st Number: 88\n",
            "Enter 2nd Number: 99\n",
            "88*99=8712\n",
            "\n",
            "Enter a arithmetic operation -> 0\n",
            "Program Stopped successfully\n"
          ]
        }
      ]
    }
  ]
}
