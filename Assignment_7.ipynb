{
  "cells": [
    {
      "cell_type": "markdown",
      "metadata": {
        "id": "view-in-github",
        "colab_type": "text"
      },
      "source": [
        "<a href=\"https://colab.research.google.com/github/vinay-shinde/Python-Programming-Basic/blob/main/Assignment_7.ipynb\" target=\"_parent\"><img src=\"https://colab.research.google.com/assets/colab-badge.svg\" alt=\"Open In Colab\"/></a>"
      ]
    },
    {
      "cell_type": "markdown",
      "id": "d3a4bb27",
      "metadata": {
        "id": "d3a4bb27"
      },
      "source": [
        "# Assignment 7 Solutions"
      ]
    },
    {
      "cell_type": "markdown",
      "id": "823845d3",
      "metadata": {
        "id": "823845d3"
      },
      "source": [
        "#### 1. Write a Python Program to find sum of Array ?"
      ]
    },
    {
      "cell_type": "code",
      "execution_count": null,
      "id": "6dd2fd5c",
      "metadata": {
        "id": "6dd2fd5c",
        "outputId": "e284814f-dba3-4fd2-ca24-b7eb98e04d04"
      },
      "outputs": [
        {
          "name": "stdout",
          "output_type": "stream",
          "text": [
            "Enter the Array: [1,2,3,4,5]\n",
            "[1, 2, 3, 4, 5] <class 'list'>\n",
            "The sum of [1, 2, 3, 4, 5] is 15\n"
          ]
        }
      ],
      "source": [
        "def sumOfArray():\n",
        "    in_arr = eval(input(\"Enter the Array: \"))\n",
        "    print(f'The sum of {in_arr} is {sum(in_arr)}')\n",
        "\n",
        "sumOfArray()"
      ]
    },
    {
      "cell_type": "markdown",
      "id": "9e6c1983",
      "metadata": {
        "id": "9e6c1983"
      },
      "source": [
        "#### 2. Write a Python Program to find Largest element in an Array ?"
      ]
    },
    {
      "cell_type": "code",
      "execution_count": null,
      "id": "e5c57cb3",
      "metadata": {
        "id": "e5c57cb3",
        "outputId": "3e80847b-588c-4afc-efea-e99afdf54612"
      },
      "outputs": [
        {
          "name": "stdout",
          "output_type": "stream",
          "text": [
            "Enter the Array: [1,2,3,4,5]\n",
            "The Largest Element in [1, 2, 3, 4, 5] is 5\n"
          ]
        }
      ],
      "source": [
        "def largestElement():\n",
        "    in_arr = eval(input(\"Enter the Array: \"))\n",
        "    print(f\"The Largest Element in {in_arr} is {sorted(in_arr, reverse=True)[0]}\")\n",
        "    \n",
        "largestElement()"
      ]
    },
    {
      "cell_type": "markdown",
      "id": "c2705b7d",
      "metadata": {
        "id": "c2705b7d"
      },
      "source": [
        "#### 3. Write a Python Program for array rotation ?"
      ]
    },
    {
      "cell_type": "code",
      "execution_count": null,
      "id": "08afb7ff",
      "metadata": {
        "id": "08afb7ff",
        "outputId": "6b4e2d6d-a118-4d9d-f6bd-2993b35befec"
      },
      "outputs": [
        {
          "name": "stdout",
          "output_type": "stream",
          "text": [
            "Enter the Array: [12,16,11,13,30]\n",
            "The Reverse of Array [12, 16, 11, 13, 30] is [30, 13, 11, 16, 12]\n"
          ]
        }
      ],
      "source": [
        "def reverseOfArray():\n",
        "    in_arr = eval(input(\"Enter the Array: \"))\n",
        "    print(f\"The Reverse of Array {in_arr} is {in_arr[::-1]}\")\n",
        "    \n",
        "reverseOfArray()"
      ]
    },
    {
      "cell_type": "markdown",
      "id": "5b6207c1",
      "metadata": {
        "id": "5b6207c1"
      },
      "source": [
        "#### 4. Write a Python Program to Split the array and add the first part to the end ?"
      ]
    },
    {
      "cell_type": "code",
      "execution_count": null,
      "id": "d6e5de3d",
      "metadata": {
        "id": "d6e5de3d",
        "outputId": "4e212932-ddde-4455-b177-40e04bd6c490"
      },
      "outputs": [
        {
          "name": "stdout",
          "output_type": "stream",
          "text": [
            "Enter the Array: [10,13,14,9,18]\n",
            "The Sum of First and Last Elements of Array [10, 13, 14, 9, 18] is 28\n"
          ]
        }
      ],
      "source": [
        "def sumOfSplits():\n",
        "    in_arr = eval(input(\"Enter the Array: \"))\n",
        "    print(f\"The Sum of First and Last Elements of Array {in_arr} is {in_arr[0]+in_arr[-1]}\")\n",
        "    \n",
        "sumOfSplits()"
      ]
    },
    {
      "cell_type": "markdown",
      "id": "eb0e084d",
      "metadata": {
        "id": "eb0e084d"
      },
      "source": [
        "#### 5. Write a Python Program to check if given array is Monotonic ?"
      ]
    },
    {
      "cell_type": "code",
      "execution_count": null,
      "id": "08c0196d",
      "metadata": {
        "id": "08c0196d",
        "outputId": "48c771e9-f46e-437b-b49e-b0614cd5e46e"
      },
      "outputs": [
        {
          "name": "stdout",
          "output_type": "stream",
          "text": [
            "Enter the Array: [1,2,3,4,5]\n",
            "Array [1, 2, 3, 4, 5] is Monotonic\n",
            "Enter the Array: 4,2,4,5,6,1\n",
            "Array (4, 2, 4, 5, 6, 1) is Not Monotonic\n"
          ]
        }
      ],
      "source": [
        "def checkMonotonic():\n",
        "    in_arr = eval(input(\"Enter the Array: \"))\n",
        "    if(all(in_arr[i]<=in_arr[i+1] for i in range(len(in_arr)-1)) or all(in_arr[i]>=in_arr[i+1] for i in range(len(in_arr)-1))):\n",
        "        print(f'Array {in_arr} is Monotonic')\n",
        "    else:\n",
        "        print(f'Array {in_arr} is Not Monotonic')\n",
        "\n",
        "checkMonotonic()\n",
        "checkMonotonic()"
      ]
    }
  ],
  "metadata": {
    "kernelspec": {
      "display_name": "Python 3 (ipykernel)",
      "language": "python",
      "name": "python3"
    },
    "language_info": {
      "codemirror_mode": {
        "name": "ipython",
        "version": 3
      },
      "file_extension": ".py",
      "mimetype": "text/x-python",
      "name": "python",
      "nbconvert_exporter": "python",
      "pygments_lexer": "ipython3",
      "version": "3.8.8"
    },
    "colab": {
      "provenance": [],
      "include_colab_link": true
    }
  },
  "nbformat": 4,
  "nbformat_minor": 5
}