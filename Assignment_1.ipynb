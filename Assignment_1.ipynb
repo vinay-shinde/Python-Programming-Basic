{
  "nbformat": 4,
  "nbformat_minor": 0,
  "metadata": {
    "colab": {
      "provenance": []
    },
    "kernelspec": {
      "name": "python3",
      "display_name": "Python 3"
    },
    "language_info": {
      "name": "python"
    }
  },
  "cells": [
    {
      "cell_type": "markdown",
      "source": [
        "#  1.\tWrite a Python program to print \"Hello Python\"?"
      ],
      "metadata": {
        "id": "iAXRi2iustih"
      }
    },
    {
      "cell_type": "code",
      "source": [
        "print(\"Hello Python\")"
      ],
      "metadata": {
        "colab": {
          "base_uri": "https://localhost:8080/"
        },
        "id": "ktmm0hi-swhk",
        "outputId": "c35109db-6e35-4b65-dcb0-b2c8c9eb3309"
      },
      "execution_count": 1,
      "outputs": [
        {
          "output_type": "stream",
          "name": "stdout",
          "text": [
            "Hello Python\n"
          ]
        }
      ]
    },
    {
      "cell_type": "markdown",
      "source": [
        "#2.\tWrite a Python program to do arithmetical operations addition and division.?"
      ],
      "metadata": {
        "id": "d3x8isbMvo8C"
      }
    },
    {
      "cell_type": "code",
      "source": [
        "a=int(input(\"Enter the first number: \"))\n",
        "b=int(input(\"Enter the second number: \"))\n",
        "\n",
        "print(f\"The sum of {a} and {b} is: {a+b} and division of {a} and {b} is: {a/b}\")"
      ],
      "metadata": {
        "colab": {
          "base_uri": "https://localhost:8080/"
        },
        "id": "oq3J2cSRvs-E",
        "outputId": "7a1c097a-070a-4aee-e9a7-85b4b546a856"
      },
      "execution_count": 2,
      "outputs": [
        {
          "output_type": "stream",
          "name": "stdout",
          "text": [
            "Enter the first number: 20\n",
            "Enter the second number: 10\n",
            "The sum of 20 and 10 is: 30 and division of 20 and 10 is: 2.0\n"
          ]
        }
      ]
    },
    {
      "cell_type": "markdown",
      "source": [
        "#3.\tWrite a Python program to find the area of a triangle?"
      ],
      "metadata": {
        "id": "BRACJBY2w2xT"
      }
    },
    {
      "cell_type": "code",
      "source": [
        "base=int(input(\"Enter the value of base: \"))\n",
        "height=int(input(\"Enter the value of height: \"))\n",
        "\n",
        "print(f\"Area of triangle for base {base} and height {height} is: {0.5*base*height}\")"
      ],
      "metadata": {
        "colab": {
          "base_uri": "https://localhost:8080/"
        },
        "id": "uAYHfZ1Xw66-",
        "outputId": "4e98e52d-7d81-4454-947b-8afa0e7b3e08"
      },
      "execution_count": 4,
      "outputs": [
        {
          "output_type": "stream",
          "name": "stdout",
          "text": [
            "Enter the value of base: 10\n",
            "Enter the value of height: 10\n",
            "Area of triangle for base 10 and height 10 is: 50.0\n"
          ]
        }
      ]
    },
    {
      "cell_type": "markdown",
      "source": [
        "#4.\tWrite a Python program to swap two variables?"
      ],
      "metadata": {
        "id": "B110_xOAxnqO"
      }
    },
    {
      "cell_type": "code",
      "source": [
        "a=int(input(\"Enter the first number: \"))\n",
        "b=int(input(\"Enter the second number: \"))\n",
        "print(f\"The numbers before swapping are: {a} and {b}\")\n",
        "a,b=b,a\n",
        "\n",
        "print(f\"The numbers after swapping are: {a} and {b}\")\n"
      ],
      "metadata": {
        "colab": {
          "base_uri": "https://localhost:8080/"
        },
        "id": "LsRjwJuYxs5F",
        "outputId": "36c57cac-3848-4409-ea15-f57f411db487"
      },
      "execution_count": 7,
      "outputs": [
        {
          "output_type": "stream",
          "name": "stdout",
          "text": [
            "Enter the first number: 10\n",
            "Enter the second number: 20\n",
            "The numbers before swapping are: 10 and 20\n",
            "The numbers after swapping are: 20 and 10\n"
          ]
        }
      ]
    },
    {
      "cell_type": "markdown",
      "source": [
        "# 5.\tWrite a Python program to generate a random number?"
      ],
      "metadata": {
        "id": "kBEu8RWxyXWC"
      }
    },
    {
      "cell_type": "code",
      "source": [
        "print(random.randint(0,1000000))"
      ],
      "metadata": {
        "colab": {
          "base_uri": "https://localhost:8080/"
        },
        "id": "Rqz3CxI1ycpG",
        "outputId": "05808762-c126-4a00-d4d4-0c5cb4265b0c"
      },
      "execution_count": 10,
      "outputs": [
        {
          "output_type": "stream",
          "name": "stdout",
          "text": [
            "50769\n"
          ]
        }
      ]
    }
  ]
}